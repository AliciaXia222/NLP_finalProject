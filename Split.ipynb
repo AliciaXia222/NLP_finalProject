{
 "cells": [
  {
   "cell_type": "code",
   "execution_count": 1,
   "metadata": {},
   "outputs": [
    {
     "ename": "ModuleNotFoundError",
     "evalue": "No module named 'pandas'",
     "output_type": "error",
     "traceback": [
      "\u001b[0;31m---------------------------------------------------------------------------\u001b[0m",
      "\u001b[0;31mModuleNotFoundError\u001b[0m                       Traceback (most recent call last)",
      "\u001b[1;32m/Users/leilei/Downloads/MIDS/703 NLP/Final Project/Final Project/NLP_finalProject/Split.ipynb Cell 1\u001b[0m line \u001b[0;36m1\n\u001b[0;32m----> <a href='vscode-notebook-cell:/Users/leilei/Downloads/MIDS/703%20NLP/Final%20Project/Final%20Project/NLP_finalProject/Split.ipynb#W0sZmlsZQ%3D%3D?line=0'>1</a>\u001b[0m \u001b[39mimport\u001b[39;00m \u001b[39mpandas\u001b[39;00m \u001b[39mas\u001b[39;00m \u001b[39mpd\u001b[39;00m\n\u001b[1;32m      <a href='vscode-notebook-cell:/Users/leilei/Downloads/MIDS/703%20NLP/Final%20Project/Final%20Project/NLP_finalProject/Split.ipynb#W0sZmlsZQ%3D%3D?line=1'>2</a>\u001b[0m \u001b[39mimport\u001b[39;00m \u001b[39mnumpy\u001b[39;00m \u001b[39mas\u001b[39;00m \u001b[39mnp\u001b[39;00m\n\u001b[1;32m      <a href='vscode-notebook-cell:/Users/leilei/Downloads/MIDS/703%20NLP/Final%20Project/Final%20Project/NLP_finalProject/Split.ipynb#W0sZmlsZQ%3D%3D?line=2'>3</a>\u001b[0m completeSpam \u001b[39m=\u001b[39m pd\u001b[39m.\u001b[39mread_csv(\u001b[39m\"\u001b[39m\u001b[39mcompleteSpamAssassin.csv\u001b[39m\u001b[39m\"\u001b[39m)\n",
      "\u001b[0;31mModuleNotFoundError\u001b[0m: No module named 'pandas'"
     ]
    }
   ],
   "source": [
    "import pandas as pd\n",
    "import numpy as np\n",
    "\n",
    "completeSpam = pd.read_csv(\"completeSpamAssassin.csv\")\n",
    "# 删除空行\n",
    "df = pd.DataFrame(completeSpam)\n",
    "df.dropna(subset=[\"Body\"], inplace=True)\n",
    "## 之后删除\n",
    "df = df.loc[0:50]\n",
    "\n",
    "# 拆分每个邮件为单词列表\n",
    "df[\"words\"] = df[\"Body\"].apply(\n",
    "    lambda email: [word for line in email.split(\"\\n\") for word in line.split()]\n",
    ")"
   ]
  },
  {
   "cell_type": "code",
   "execution_count": 2,
   "metadata": {},
   "outputs": [
    {
     "data": {
      "text/html": [
       "<div>\n",
       "<style scoped>\n",
       "    .dataframe tbody tr th:only-of-type {\n",
       "        vertical-align: middle;\n",
       "    }\n",
       "\n",
       "    .dataframe tbody tr th {\n",
       "        vertical-align: top;\n",
       "    }\n",
       "\n",
       "    .dataframe thead th {\n",
       "        text-align: right;\n",
       "    }\n",
       "</style>\n",
       "<table border=\"1\" class=\"dataframe\">\n",
       "  <thead>\n",
       "    <tr style=\"text-align: right;\">\n",
       "      <th></th>\n",
       "      <th>Unnamed: 0</th>\n",
       "      <th>Body</th>\n",
       "      <th>Label</th>\n",
       "      <th>words</th>\n",
       "    </tr>\n",
       "  </thead>\n",
       "  <tbody>\n",
       "    <tr>\n",
       "      <th>0</th>\n",
       "      <td>0</td>\n",
       "      <td>\\nSave up to 70% on Life Insurance.\\nWhy Spend...</td>\n",
       "      <td>1</td>\n",
       "      <td>[Save, up, to, 70%, on, Life, Insurance., Why,...</td>\n",
       "    </tr>\n",
       "    <tr>\n",
       "      <th>1</th>\n",
       "      <td>1</td>\n",
       "      <td>1) Fight The Risk of Cancer!\\nhttp://www.adcli...</td>\n",
       "      <td>1</td>\n",
       "      <td>[1), Fight, The, Risk, of, Cancer!, http://www...</td>\n",
       "    </tr>\n",
       "    <tr>\n",
       "      <th>2</th>\n",
       "      <td>2</td>\n",
       "      <td>1) Fight The Risk of Cancer!\\nhttp://www.adcli...</td>\n",
       "      <td>1</td>\n",
       "      <td>[1), Fight, The, Risk, of, Cancer!, http://www...</td>\n",
       "    </tr>\n",
       "    <tr>\n",
       "      <th>3</th>\n",
       "      <td>3</td>\n",
       "      <td>##############################################...</td>\n",
       "      <td>1</td>\n",
       "      <td>[#############################################...</td>\n",
       "    </tr>\n",
       "    <tr>\n",
       "      <th>4</th>\n",
       "      <td>4</td>\n",
       "      <td>I thought you might like these:\\n1) Slim Down ...</td>\n",
       "      <td>1</td>\n",
       "      <td>[I, thought, you, might, like, these:, 1), Sli...</td>\n",
       "    </tr>\n",
       "  </tbody>\n",
       "</table>\n",
       "</div>"
      ],
      "text/plain": [
       "   Unnamed: 0                                               Body  Label  \\\n",
       "0           0  \\nSave up to 70% on Life Insurance.\\nWhy Spend...      1   \n",
       "1           1  1) Fight The Risk of Cancer!\\nhttp://www.adcli...      1   \n",
       "2           2  1) Fight The Risk of Cancer!\\nhttp://www.adcli...      1   \n",
       "3           3  ##############################################...      1   \n",
       "4           4  I thought you might like these:\\n1) Slim Down ...      1   \n",
       "\n",
       "                                               words  \n",
       "0  [Save, up, to, 70%, on, Life, Insurance., Why,...  \n",
       "1  [1), Fight, The, Risk, of, Cancer!, http://www...  \n",
       "2  [1), Fight, The, Risk, of, Cancer!, http://www...  \n",
       "3  [#############################################...  \n",
       "4  [I, thought, you, might, like, these:, 1), Sli...  "
      ]
     },
     "execution_count": 2,
     "metadata": {},
     "output_type": "execute_result"
    }
   ],
   "source": []
  },
  {
   "cell_type": "code",
   "execution_count": 2,
   "metadata": {},
   "outputs": [],
   "source": [
    "spam_vocablist = df[df[\"Label\"] == 1][\"words\"]"
   ]
  },
  {
   "cell_type": "code",
   "execution_count": null,
   "metadata": {},
   "outputs": [],
   "source": [
    "ham_vocablist = df[df[\"Label\"] == 0][\"words\"]"
   ]
  }
 ],
 "metadata": {
  "kernelspec": {
   "display_name": "Python 3",
   "language": "python",
   "name": "python3"
  },
  "language_info": {
   "codemirror_mode": {
    "name": "ipython",
    "version": 3
   },
   "file_extension": ".py",
   "mimetype": "text/x-python",
   "name": "python",
   "nbconvert_exporter": "python",
   "pygments_lexer": "ipython3",
   "version": "3.11.6"
  }
 },
 "nbformat": 4,
 "nbformat_minor": 2
}
