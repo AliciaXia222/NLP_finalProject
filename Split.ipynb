{
 "cells": [
  {
   "cell_type": "code",
   "execution_count": 1,
   "metadata": {},
   "outputs": [],
   "source": [
    "import pandas as pd\n",
    "import numpy as np\n",
    "completeSpam = pd.read_csv(\"completeSpamAssassin.csv\")\n",
    "# 删除空行\n",
    "df = pd.DataFrame(completeSpam)\n",
    "df.dropna(subset=['Body'], inplace=True)\n",
    "# 拆分每个邮件为单词列表\n",
    "df['words'] = df['Body'].apply(lambda email: \n",
    " [word for line in email.split('\\n') for word in line.split()])"
   ]
  },
  {
   "cell_type": "code",
   "execution_count": 2,
   "metadata": {},
   "outputs": [],
   "source": [
    "spam_vocablist = df[df['Label'] == 1]"
   ]
  },
  {
   "cell_type": "code",
   "execution_count": null,
   "metadata": {},
   "outputs": [],
   "source": [
    "ham_vocablist = df[df['Label'] == 0]"
   ]
  }
 ],
 "metadata": {
  "kernelspec": {
   "display_name": "Python 3",
   "language": "python",
   "name": "python3"
  },
  "language_info": {
   "codemirror_mode": {
    "name": "ipython",
    "version": 3
   },
   "file_extension": ".py",
   "mimetype": "text/x-python",
   "name": "python",
   "nbconvert_exporter": "python",
   "pygments_lexer": "ipython3",
   "version": "3.10.8"
  }
 },
 "nbformat": 4,
 "nbformat_minor": 2
}
